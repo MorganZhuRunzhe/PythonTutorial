{
 "cells": [
  {
   "cell_type": "markdown",
   "metadata": {},
   "source": [
    "# [Queue](https://leetcode.com/explore/interview/card/leetcodes-interview-crash-course-data-structures-and-algorithms/706/stacks-and-queues/4516/)\n",
    "\n",
    "> While a stack followed a LIFO pattern, a queue follows **FIFO** (first in first out).  \n",
    "> An example of a queue in the physical world is **a line at a fast food restaurant**. People leave the line when they finish ordering (from the front) and people enter the line from the back (opposite end).\n",
    "\n",
    "**Mechanics of Queue**\n",
    "- enqueue\n",
    "- dequeue\n",
    "\n",
    "**Patterns of Queue**\n",
    "- **Breadth-first Search**"
   ]
  }
 ],
 "metadata": {
  "language_info": {
   "name": "python"
  }
 },
 "nbformat": 4,
 "nbformat_minor": 2
}
