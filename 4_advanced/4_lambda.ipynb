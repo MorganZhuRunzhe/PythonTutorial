{
 "cells": [
  {
   "cell_type": "markdown",
   "metadata": {},
   "source": [
    "# Lambdas\n",
    "\n",
    "- The following lambda expression is composed of:\n",
    "  - **The keyword**: `lambda`\n",
    "  - **A bound variable**: `x`\n",
    "  - **A body**: `x`  \n",
    "  \n",
    "    `lambda x: x`\n",
    "\n",
    "- Because a lambda function is an expression, it can be **named**.\n",
    "- The **definition** of the lambda lists the arguments with no parentheses, whereas **calling** the function is done exactly like a normal Python functin, with parentheses surrounding the arguments.  \n",
    "    \n",
    "  `full_name = lambda first, last: f'Full name: {first} {last}'`  \n",
    "  `full_name('Morgan', 'Zhu')`\n",
    "\n",
    "- Lambda functions are frequently used with **higher-order functions**, which take one or more functions as arguments or return one or more functions."
   ]
  },
  {
   "cell_type": "markdown",
   "metadata": {},
   "source": [
    "**Appropriate Uses Case: classic functional constructs**\n",
    "\n",
    "Lambda functions are regularly used with the [built-in functions](https://www.youtube.com/watch?v=hUes6y2b--0) \n",
    "- `map()`\n",
    "- `filter()`\n",
    "- `functools.reduce()`\n",
    "  > Use `functools.reduce()` if you really need it; however, 99% of the time an explicit for loop is more readable.\n"
   ]
  },
  {
   "cell_type": "code",
   "execution_count": 7,
   "metadata": {},
   "outputs": [
    {
     "data": {
      "text/plain": [
       "[('Los Angeles', 78.8), ('New York', 82.4), ('Beijing', 89.6)]"
      ]
     },
     "execution_count": 7,
     "metadata": {},
     "output_type": "execute_result"
    }
   ],
   "source": [
    "# use case: map() - convert the temperature in Celsius to Fahrenheit\n",
    "\n",
    "temps = [(\"Los Angeles\", 26), (\"New York\", 28), (\"Beijing\", 32)]\n",
    "c_to_f = lambda data: (data[0], round((9/5)*data[1] + 32, 2))\n",
    "list(map(c_to_f, temps)) # map object has 2 argumemts: first - function, second - iterable objects"
   ]
  },
  {
   "cell_type": "code",
   "execution_count": 28,
   "metadata": {},
   "outputs": [
    {
     "data": {
      "text/plain": [
       "['Australia', 'China', 0]"
      ]
     },
     "execution_count": 28,
     "metadata": {},
     "output_type": "execute_result"
    }
   ],
   "source": [
    "# use case: filter - find all data above the average\n",
    "\n",
    "import statistics\n",
    "\n",
    "data = [1,2,3,4,5]\n",
    "avg = statistics.mean(data)\n",
    "list(filter(lambda x: x > avg, data))\n",
    "\n",
    "# use case: filter - Remove missing data\n",
    "\n",
    "countries = [\"Australia\", \"China\", \"\", 0] \n",
    "list(filter(None, countries)) \n",
    "# NOTE: 0 might be a valid piece of data, so you would not want to filter that out\n",
    "list(filter(lambda x: x != \"\", countries))"
   ]
  },
  {
   "cell_type": "markdown",
   "metadata": {},
   "source": [
    "**Appropriate Uses Case: key functions**\n",
    "\n",
    "Lambda function can directly influences the algorithm driven by the key function itself. Here are some key functions:\n",
    "- `sort()`: list method\n",
    "- `sorted()`, `min()`, `max()`: built-in functions\n",
    "- `nlargest()` and `nsmallest()`: in the Heap queue algorithm module `heapq`"
   ]
  },
  {
   "cell_type": "code",
   "execution_count": 29,
   "metadata": {},
   "outputs": [
    {
     "name": "stdout",
     "output_type": "stream",
     "text": [
      "['id1', 'id100', 'id2', 'id22', 'id3', 'id30']\n",
      "['id1', 'id2', 'id3', 'id22', 'id30', 'id100']\n"
     ]
    }
   ],
   "source": [
    "# use case: sorted() - lexicographic order to integer order\n",
    "\n",
    "ids = ['id1', 'id2', 'id30', 'id3', 'id22', 'id100']\n",
    "print(sorted(ids)) # Lexicographic sort\n",
    "\n",
    "sorted_ids = sorted(ids, key=lambda x: int(x[2:])) # Integer sort\n",
    "print(sorted_ids)"
   ]
  }
 ],
 "metadata": {
  "kernelspec": {
   "display_name": "base",
   "language": "python",
   "name": "python3"
  },
  "language_info": {
   "codemirror_mode": {
    "name": "ipython",
    "version": 3
   },
   "file_extension": ".py",
   "mimetype": "text/x-python",
   "name": "python",
   "nbconvert_exporter": "python",
   "pygments_lexer": "ipython3",
   "version": "3.9.12"
  }
 },
 "nbformat": 4,
 "nbformat_minor": 2
}
