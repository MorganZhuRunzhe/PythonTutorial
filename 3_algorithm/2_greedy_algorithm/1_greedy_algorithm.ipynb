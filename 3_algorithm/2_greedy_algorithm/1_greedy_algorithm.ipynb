{
 "cells": [
  {
   "cell_type": "markdown",
   "metadata": {},
   "source": [
    "# [Greedy Algorithm](https://leetcode.com/explore/interview/card/leetcodes-interview-crash-course-data-structures-and-algorithms/709/greedy/4529/)\n",
    "\n",
    "**Characteristics**\n",
    "> A greedy algorithm is any algorithm that makes the locally optimal decision at every step.\n",
    "- What makes a decision \"**optimal**\"?\n",
    "  <br></br>\n",
    "  > Most greedy problems will be asking for the **maximum** or **minimum** of something, but not always.\n",
    "  <br></br>\n",
    "  > A lot of algorithms involving heaps can be considered greedy. A heap gives us a maximum or minimum element, and generally greedy approaches will be **choosing max/min at each step**.\n",
    "  <br></br>\n",
    "  > Many greedy problems need to **sort the input at the start**. Again, this is because we want to greedily choose the max/min elements in many problems, and sorting the input makes this convenient.\n",
    "- What makes a decision \"**local**\"?\n",
    "  <br></br>\n",
    "  > A decision is local when it considers only the available options at the current step. It is based on the information it has at the time, and doesn't consider any consequences that may happen in the future from this decision.\n",
    "\n",
    "**Patterns**"
   ]
  },
  {
   "cell_type": "markdown",
   "metadata": {},
   "source": [
    "**2126. Destroying Asteroids**"
   ]
  },
  {
   "cell_type": "code",
   "execution_count": null,
   "metadata": {},
   "outputs": [],
   "source": [
    "from heapq import *\n",
    "\n",
    "class Solution:\n",
    "    def asteroidsDestroyed(self, mass: int, asteroids: List[int]) -> bool:\n",
    "        heapify(asteroids)\n",
    "        while asteroids:\n",
    "            asteroid = heappop(asteroids)\n",
    "            if asteroid > mass:\n",
    "                return False\n",
    "            else:\n",
    "                mass += asteroid\n",
    "        \n",
    "        return True"
   ]
  }
 ],
 "metadata": {
  "kernelspec": {
   "display_name": "Python 3",
   "language": "python",
   "name": "python3"
  },
  "language_info": {
   "codemirror_mode": {
    "name": "ipython",
    "version": 3
   },
   "file_extension": ".py",
   "mimetype": "text/x-python",
   "name": "python",
   "nbconvert_exporter": "python",
   "pygments_lexer": "ipython3",
   "version": "3.11.4"
  }
 },
 "nbformat": 4,
 "nbformat_minor": 2
}
