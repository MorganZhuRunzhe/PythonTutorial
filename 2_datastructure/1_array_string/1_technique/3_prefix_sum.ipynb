{
 "cells": [
  {
   "cell_type": "markdown",
   "metadata": {},
   "source": [
    "# [prefix Sum](https://leetcode.com/explore/interview/card/leetcodes-interview-crash-course-data-structures-and-algorithms/703/arraystrings/4503/)\n",
    "\n",
    "\n",
    "**When should we use prefix sum?**\n",
    "\n",
    "> A prefix sum is a great tool whenever a problem involves sums of a subarray.  \n",
    "> Because prefix sums allow us to find the sum of any subarray in $O(1)$.\n",
    "\n",
    "> The idea is to create an array prefix where `prefix[i]` is the sum of all elements up to the index `i`(inclusive).  \n",
    "> If we want the sum of the subarray from i to j(inclusive), then the answer is `prefix[j] - prefix[i] + nums[i]`.\n",
    "\n",
    "- [X] 2270. Number of Ways to Split Array"
   ]
  },
  {
   "cell_type": "markdown",
   "metadata": {},
   "source": [
    "**2270. Number of Ways to Split Array**"
   ]
  },
  {
   "cell_type": "code",
   "execution_count": null,
   "metadata": {},
   "outputs": [],
   "source": [
    "class Solution:\n",
    "    def waysToSplitArray(self, nums: List[int]) -> int:\n",
    "        \n",
    "        prefix = [nums[0]]\n",
    "        for i in range(1, len(nums)):\n",
    "            prefix.append(nums[i]+prefix[-1])\n",
    "        \n",
    "        res = 0\n",
    "        for i in range(len(nums)-1):\n",
    "            if prefix[i] >= prefix[-1] - prefix[i]:\n",
    "                res += 1\n",
    "        \n",
    "        return res"
   ]
  }
 ],
 "metadata": {
  "language_info": {
   "name": "python"
  }
 },
 "nbformat": 4,
 "nbformat_minor": 2
}
