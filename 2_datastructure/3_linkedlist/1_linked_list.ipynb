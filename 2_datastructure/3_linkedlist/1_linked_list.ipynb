{
 "cells": [
  {
   "cell_type": "markdown",
   "metadata": {},
   "source": [
    "# [Linked List](https://leetcode.com/explore/interview/card/leetcodes-interview-crash-course-data-structures-and-algorithms/704/linked-lists/4506/)\n",
    "\n",
    "> A linked list is a data structure similar to an array. **It also stores data in an ordered manner, but it is implemented using node objects.** Each node will have a \"next\" pointer, which points to the node representing the next element in the sequence.\n",
    "\n",
    "> Usually, we **keep a reference to the head** because the head is the only node from where you can reach all elements in the linked list.\n",
    "\n",
    "**Mechanics of Linked Lists**\n",
    "- **Assignment `=`**\n",
    "- **Chaining `.next`**\n",
    "- **Traversal**\n",
    "\n",
    "**Types of Linked Lists**\n",
    "- **Singly Linked List**\n",
    "  - Add node\n",
    "  - Delete node\n",
    "- **Doubly Linked List**\n",
    "  - Add node\n",
    "  - Delete node\n",
    "- **Linked Lists with Sentinel Nodes**\n",
    "\n",
    "**Common Patterns**\n",
    "- [ ] Fast and Slow Pointers\n",
    "- [ ] Reversing a Linked List\n"
   ]
  }
 ],
 "metadata": {
  "language_info": {
   "name": "python"
  }
 },
 "nbformat": 4,
 "nbformat_minor": 2
}
