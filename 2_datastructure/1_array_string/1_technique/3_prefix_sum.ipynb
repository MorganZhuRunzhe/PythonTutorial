{
 "cells": [
  {
   "cell_type": "markdown",
   "metadata": {},
   "source": [
    "# [Prefix Sum](https://leetcode.com/explore/interview/card/leetcodes-interview-crash-course-data-structures-and-algorithms/703/arraystrings/4503/)\n",
    "\n",
    "\n",
    "**When should we use prefix sum?**\n",
    "\n",
    "> A prefix sum is a great tool whenever a problem involves sums of a subarray.  \n",
    "> Because prefix sums allow us to find the sum of any subarray in $O(1)$.\n",
    "\n",
    "> The idea is to create an array prefix where `prefix[i]` is the sum of all elements up to the index `i`(inclusive).  \n",
    "> If we want the sum of the subarray from i to j(inclusive), then the answer is `prefix[j] - prefix[i] + nums[i]`.\n",
    "\n",
    "- [X] 2270. Number of Ways to Split Array"
   ]
  },
  {
   "cell_type": "markdown",
   "metadata": {},
   "source": [
    "**2270. Number of Ways to Split Array**"
   ]
  },
  {
   "cell_type": "code",
   "execution_count": null,
   "metadata": {},
   "outputs": [],
   "source": [
    "class Solution:\n",
    "    def waysToSplitArray(self, nums: List[int]) -> int:\n",
    "        \n",
    "        prefix = [nums[0]]\n",
    "        for i in range(1, len(nums)):\n",
    "            prefix.append(nums[i]+prefix[-1])\n",
    "        \n",
    "        res = 0\n",
    "        for i in range(len(nums)-1):\n",
    "            if prefix[i] >= prefix[-1] - prefix[i]:\n",
    "                res += 1\n",
    "        \n",
    "        return res"
   ]
  },
  {
   "cell_type": "markdown",
   "metadata": {},
   "source": [
    "**2090. K Radius Subarray Averages**"
   ]
  },
  {
   "cell_type": "code",
   "execution_count": null,
   "metadata": {},
   "outputs": [],
   "source": [
    "class Solution:\n",
    "    def getAverages(self, nums: List[int], k: int) -> List[int]:\n",
    "        \n",
    "        n = len(nums)\n",
    "        m = n - k\n",
    "        res = [-1] * n\n",
    "        sum = [nums[0]]\n",
    "        if n > 1:\n",
    "            for i in range(1, n):\n",
    "                sum.append(nums[i] + sum[i-1])\n",
    "        \n",
    "        if 2 * k <= n - 1:\n",
    "            for i in range(k, m):\n",
    "                res[i] = int((sum[i+k] - sum[i-k] + nums[i-k])/(2*k+1))\n",
    "        else:\n",
    "            return res\n",
    "        \n",
    "        return res"
   ]
  }
 ],
 "metadata": {
  "kernelspec": {
   "display_name": "Python 3",
   "language": "python",
   "name": "python3"
  },
  "language_info": {
   "codemirror_mode": {
    "name": "ipython",
    "version": 3
   },
   "file_extension": ".py",
   "mimetype": "text/x-python",
   "name": "python",
   "nbconvert_exporter": "python",
   "pygments_lexer": "ipython3",
   "version": "3.11.4"
  }
 },
 "nbformat": 4,
 "nbformat_minor": 2
}
