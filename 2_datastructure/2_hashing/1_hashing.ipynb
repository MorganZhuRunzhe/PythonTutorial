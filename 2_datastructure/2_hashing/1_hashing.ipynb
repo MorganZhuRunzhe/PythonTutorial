{
 "cells": [
  {
   "cell_type": "markdown",
   "metadata": {},
   "source": [
    "# [Hashing](https://leetcode.com/explore/interview/card/leetcodes-interview-crash-course-data-structures-and-algorithms/705/hashing/4510/)\n",
    "\n",
    "> A hash map is an unordered data structure that stores key-value pair.\n",
    "\n",
    "**When should we use hashing?**\n",
    "- **Checking for existence**\n",
    "  \n",
    "  - [X] 1. Two Sum\n",
    "  - [X] 2351. First Letter to Appear Twice\n",
    "- **Counting**\n",
    "\n",
    "  - [X] 340. Longest Substring with At Most K Distinct Characters\n",
    "  - [X] 560. Subarray Sum Equals K\n"
   ]
  },
  {
   "cell_type": "markdown",
   "metadata": {},
   "source": [
    "**1. Two Sum**"
   ]
  },
  {
   "cell_type": "code",
   "execution_count": null,
   "metadata": {},
   "outputs": [],
   "source": [
    "class Solution:\n",
    "    def twoSum(self, nums: List[int], target: int) -> List[int]:\n",
    "        hashmap = {}\n",
    "        for i in range(len(nums)):\n",
    "            complement = target - nums[i]\n",
    "            if complement in hashmap:\n",
    "                return [hashmap[complement], i]\n",
    "            else:\n",
    "                hashmap[nums[i]] = i"
   ]
  },
  {
   "cell_type": "markdown",
   "metadata": {},
   "source": [
    "**2351. First Letter to Appear Twice**"
   ]
  },
  {
   "cell_type": "code",
   "execution_count": null,
   "metadata": {},
   "outputs": [],
   "source": [
    "class Solution:\n",
    "    def repeatedCharacter(self, s: str) -> str:\n",
    "        seen = set()\n",
    "        for i in range(len(s)):\n",
    "            if s[i] in seen:\n",
    "                return s[i]\n",
    "            else:\n",
    "                seen.add(s[i]) \n",
    "                \n",
    "        return \" \""
   ]
  },
  {
   "cell_type": "markdown",
   "metadata": {},
   "source": [
    "**340. Longest Substring with At Most K Distinct Characters**"
   ]
  },
  {
   "cell_type": "code",
   "execution_count": null,
   "metadata": {},
   "outputs": [],
   "source": [
    "class Solution:\n",
    "    def lengthOfLongestSubstringKDistinct(self, s: str, k: int) -> int:\n",
    "        l, r, ans = 0, 0, 0\n",
    "        hashmap = {}\n",
    "        \n",
    "        while r < len(s):\n",
    "            if s[r] not in hashmap:\n",
    "                hashmap[s[r]] = 1\n",
    "            else:\n",
    "                hashmap[s[r]] += 1\n",
    "            \n",
    "            while len(hashmap) > k:\n",
    "                hashmap[s[l]] -= 1\n",
    "                if hashmap[s[l]] == 0:\n",
    "                    del hashmap[s[l]]\n",
    "                l += 1\n",
    "\n",
    "            ans = max(ans, r - l + 1)\n",
    "            r += 1\n",
    "                    \n",
    "        return ans"
   ]
  },
  {
   "cell_type": "markdown",
   "metadata": {},
   "source": [
    "**560. Subarray Sum Equals K**"
   ]
  },
  {
   "cell_type": "code",
   "execution_count": null,
   "metadata": {},
   "outputs": [],
   "source": [
    "class Solution:\n",
    "    def subarraySum(self, nums: List[int], k: int) -> int:\n",
    "        prefix = [nums[0]]\n",
    "        for i in range(1, len(nums)):\n",
    "            prefix.append(prefix[i-1] + nums[i])\n",
    "\n",
    "        counts = {0:1} # [] : 1\n",
    "        ans = 0\n",
    "\n",
    "        for curr in prefix:\n",
    "            if curr - k in counts:\n",
    "                ans += counts[curr-k]\n",
    "            if curr not in counts:\n",
    "                counts[curr] = 1\n",
    "            else:\n",
    "                counts[curr] += 1\n",
    "        \n",
    "        return ans"
   ]
  }
 ],
 "metadata": {
  "kernelspec": {
   "display_name": "Python 3",
   "language": "python",
   "name": "python3"
  },
  "language_info": {
   "codemirror_mode": {
    "name": "ipython",
    "version": 3
   },
   "file_extension": ".py",
   "mimetype": "text/x-python",
   "name": "python",
   "nbconvert_exporter": "python",
   "pygments_lexer": "ipython3",
   "version": "3.11.4"
  }
 },
 "nbformat": 4,
 "nbformat_minor": 2
}
