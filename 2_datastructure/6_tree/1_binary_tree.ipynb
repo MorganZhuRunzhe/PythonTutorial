{
 "cells": [
  {
   "cell_type": "markdown",
   "metadata": {},
   "source": [
    "# Binary Tree\n",
    "\n",
    "- [ ] Binary Tree & Traversal Order"
   ]
  },
  {
   "cell_type": "markdown",
   "metadata": {},
   "source": [
    "## [Traverse a Tree](https://leetcode.com/explore/learn/card/data-structure-tree/134/traverse-a-tree/992/)\n",
    "\n",
    "- [x] Pre-order Traversal: `root` -> `left` -> `right`\n",
    "- [x] In-order Traversal: `left` -> `root` -> `right`\n",
    "- [x] Post-order Traversal: `left` -> `right` -> `root`\n",
    "- [ ] Level-order Traversal"
   ]
  },
  {
   "cell_type": "markdown",
   "metadata": {},
   "source": [
    "**Pre-order Traversal**\n",
    "- [x] Recursion\n",
    "- [x] Iteration"
   ]
  },
  {
   "cell_type": "code",
   "execution_count": null,
   "metadata": {},
   "outputs": [],
   "source": [
    "# Definition for a binary tree node.\n",
    "# class TreeNode:\n",
    "#     def __init__(self, val=0, left=None, right=None):\n",
    "#         self.val = val\n",
    "#         self.left = left\n",
    "#         self.right = right\n",
    "\n",
    "\n",
    "# Recursive Solution\n",
    "class Solution:\n",
    "    def preorderTraversal(self, root: Optional[TreeNode]) -> List[int]:\n",
    "        \n",
    "        def dfs(curr):\n",
    "            if curr:\n",
    "                res.append(curr.val)\n",
    "                dfs(curr.left)\n",
    "                dfs(curr.right)\n",
    "            else:\n",
    "                return\n",
    "\n",
    "        res = []\n",
    "        dfs(root)\n",
    "        \n",
    "        return res\n",
    "\n",
    "\n",
    "# Iterative Solution - Stack\n",
    "class Solution:\n",
    "    def preorderTraversal(self, root: Optional[TreeNode]) -> List[int]:\n",
    "\n",
    "        res = []\n",
    "        stack = [root]\n",
    "\n",
    "        while len(stack) > 0:\n",
    "            curr = stack.pop()\n",
    "            if curr is not None:\n",
    "                res.append(curr.val)\n",
    "                # Note that we add curr's right child to the stack first\n",
    "                stack.append(curr.right)\n",
    "                stack.append(curr.left)\n",
    "        \n",
    "        return res\n",
    "\n",
    "\n",
    "# Iterative Solution - Queue\n",
    "class Solution:\n",
    "    def preorderTraversal(self, root: Optional[TreeNode]) -> List[int]:\n",
    "\n",
    "        res = []\n",
    "        queue = [root]\n",
    "\n",
    "        while len(queue) > 0:\n",
    "            curr = queue.pop(0)\n",
    "            if curr is not None:\n",
    "                res.append(curr.val)\n",
    "                queue = [curr.left, curr.right] + queue\n",
    "        \n",
    "        return res\n",
    "\n"
   ]
  },
  {
   "cell_type": "markdown",
   "metadata": {},
   "source": [
    "**In-order Traversal**\n",
    "- [x] Recursion\n",
    "- [ ] Iteration"
   ]
  },
  {
   "cell_type": "code",
   "execution_count": 33,
   "metadata": {},
   "outputs": [],
   "source": [
    "# Definition for a binary tree node.\n",
    "# class TreeNode:\n",
    "#     def __init__(self, val=0, left=None, right=None):\n",
    "#         self.val = val\n",
    "#         self.left = left\n",
    "#         self.right = right\n",
    "\n",
    "# Recursive Solution\n",
    "class Solution:\n",
    "    def inorderTraversal(self, root: Optional[TreeNode]) -> List[int]:\n",
    "        \n",
    "        def dfs(curr):\n",
    "            if curr:\n",
    "                dfs(curr.left)\n",
    "                res.append(curr.val)\n",
    "                dfs(curr.right)\n",
    "            else:\n",
    "                return\n",
    "        \n",
    "        res = []\n",
    "        dfs(root)\n",
    "\n",
    "        return res"
   ]
  },
  {
   "cell_type": "markdown",
   "metadata": {},
   "source": [
    "**Post-order Traversal**\n",
    "- [x] Recursion\n",
    "- [ ] Iteration"
   ]
  },
  {
   "cell_type": "code",
   "execution_count": null,
   "metadata": {},
   "outputs": [],
   "source": [
    "# Definition for a binary tree node.\n",
    "# class TreeNode:\n",
    "#     def __init__(self, val=0, left=None, right=None):\n",
    "#         self.val = val\n",
    "#         self.left = left\n",
    "#         self.right = right\n",
    "class Solution:\n",
    "    def postorderTraversal(self, root: Optional[TreeNode]) -> List[int]:\n",
    "        \n",
    "        def dfs(curr):\n",
    "            if curr:\n",
    "                dfs(curr.left)\n",
    "                dfs(curr.right)\n",
    "                res.append(curr.val)\n",
    "            else:\n",
    "                return\n",
    "        \n",
    "        res = []\n",
    "        dfs(root)\n",
    "\n",
    "        return res"
   ]
  },
  {
   "cell_type": "markdown",
   "metadata": {},
   "source": [
    "**[Level-order Traversal](https://leetcode.com/explore/learn/card/data-structure-tree/134/traverse-a-tree/931/)**\n",
    "- [x] Recursion\n",
    "- [ ] Iteration"
   ]
  }
 ],
 "metadata": {
  "kernelspec": {
   "display_name": "Python 3",
   "language": "python",
   "name": "python3"
  },
  "language_info": {
   "codemirror_mode": {
    "name": "ipython",
    "version": 3
   },
   "file_extension": ".py",
   "mimetype": "text/x-python",
   "name": "python",
   "nbconvert_exporter": "python",
   "pygments_lexer": "ipython3",
   "version": "3.11.4"
  }
 },
 "nbformat": 4,
 "nbformat_minor": 2
}
