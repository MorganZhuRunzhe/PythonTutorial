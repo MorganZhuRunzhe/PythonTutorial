{
 "cells": [
  {
   "cell_type": "markdown",
   "metadata": {},
   "source": [
    "# [Hashing](https://leetcode.com/explore/interview/card/leetcodes-interview-crash-course-data-structures-and-algorithms/705/hashing/4510/)\n",
    "\n",
    "> A hash map is an unordered data structure that stores key-value pair.\n",
    "\n",
    "**When should we use hashing?**\n",
    "- Checking for existence\n",
    "  \n",
    "  - [X] 1. Two Sum\n",
    "  - [X] 2351. First Letter to Appear Twice\n",
    "- \n"
   ]
  },
  {
   "cell_type": "markdown",
   "metadata": {},
   "source": [
    "**1. Two Sum**"
   ]
  },
  {
   "cell_type": "code",
   "execution_count": null,
   "metadata": {},
   "outputs": [],
   "source": [
    "class Solution:\n",
    "    def twoSum(self, nums: List[int], target: int) -> List[int]:\n",
    "        hashmap = {}\n",
    "        for i in range(len(nums)):\n",
    "            complement = target - nums[i]\n",
    "            if complement in hashmap:\n",
    "                return [hashmap[complement], i]\n",
    "            else:\n",
    "                hashmap[nums[i]] = i"
   ]
  },
  {
   "cell_type": "markdown",
   "metadata": {},
   "source": [
    "**2351. First Letter to Appear Twice**"
   ]
  },
  {
   "cell_type": "code",
   "execution_count": null,
   "metadata": {},
   "outputs": [],
   "source": [
    "class Solution:\n",
    "    def repeatedCharacter(self, s: str) -> str:\n",
    "        seen = set()\n",
    "        for i in range(len(s)):\n",
    "            if s[i] in seen:\n",
    "                return s[i]\n",
    "            else:\n",
    "                seen.add(s[i]) \n",
    "                \n",
    "        return \" \""
   ]
  }
 ],
 "metadata": {
  "language_info": {
   "name": "python"
  }
 },
 "nbformat": 4,
 "nbformat_minor": 2
}
