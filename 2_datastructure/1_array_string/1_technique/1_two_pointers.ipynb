{
 "cells": [
  {
   "cell_type": "markdown",
   "metadata": {},
   "source": [
    "# [Two pointers](https://leetcode.com/explore/interview/card/leetcodes-interview-crash-course-data-structures-and-algorithms/703/arraystrings/4501/)\n",
    "\n",
    "Two pointers is an extremely common technique used to solve array and string problems.  \n",
    "\n",
    "There are several ways to implement two pointers:\n",
    "- When having **one iterable** in the input:  \n",
    "  > Start the pointers at the edges of the input. Move them towards each other until they meet.\n",
    "  <br></br>   \n",
    "  - [X] 167. Two Sum II - Input Array Is Sorted\n",
    "  - [X] 125. Valid Palindrome  \n",
    "  <br></br> \n",
    "- When having **two iterables** in the input:\n",
    "  > Move along both inputs simultaneously until all elements have been checked.\n",
    "  - [X] 344. Reverse String\n",
    "  - [X] 977. Squares of a Sorted Array\n",
    "  <br></br> \n",
    "- When having **three iterables** in the input:\n",
    "  - [X] 75. Sort Colors"
   ]
  },
  {
   "cell_type": "markdown",
   "metadata": {},
   "source": [
    "**167. Two Sum II - Input Array Is Sorted**"
   ]
  },
  {
   "cell_type": "code",
   "execution_count": 14,
   "metadata": {},
   "outputs": [],
   "source": [
    "class Solution:\n",
    "    def twoSum(self, numbers: List[int], target: int) -> List[int]:\n",
    "        l, r = 0, len(numbers)-1\n",
    "        while l < r:\n",
    "            if numbers[l] + numbers[r] == target:\n",
    "                return [l+1, r+1]\n",
    "            elif numbers[l] + numbers[r] < target:\n",
    "                l += 1\n",
    "            elif numbers[l] + numbers[r] > target:\n",
    "                r -= 1\n",
    "        \n",
    "        return []"
   ]
  },
  {
   "cell_type": "markdown",
   "metadata": {},
   "source": [
    "**125. Valid Palindrome**"
   ]
  },
  {
   "cell_type": "code",
   "execution_count": 4,
   "metadata": {},
   "outputs": [],
   "source": [
    "class Solution:\n",
    "    def isPalindrome(self, s: str) -> bool:\n",
    "        \n",
    "        filtered = filter(lambda ch: ch.isalnum(), s)\n",
    "        transformed = list(map(lambda ch: ch.lower(), filtered))\n",
    "\n",
    "        i, j = 0, len(transformed)-1\n",
    "        while i < j:\n",
    "            if transformed[i] != transformed[j]:\n",
    "                return False\n",
    "            i += 1\n",
    "            j -= 1\n",
    "        \n",
    "        return True"
   ]
  },
  {
   "cell_type": "markdown",
   "metadata": {},
   "source": [
    "**344. Reverse String**"
   ]
  },
  {
   "cell_type": "code",
   "execution_count": null,
   "metadata": {},
   "outputs": [],
   "source": [
    "class Solution:\n",
    "    def reverseString(self, s: List[str]) -> None:\n",
    "        \"\"\"\n",
    "        Do not return anything, modify s in-place instead.\n",
    "        \"\"\"\n",
    "        \n",
    "        i, j = 0, len(s)-1\n",
    "        while i < j:\n",
    "            s[i], s[j] = s[j], s[i]\n",
    "            i += 1\n",
    "            j -= 1"
   ]
  },
  {
   "cell_type": "markdown",
   "metadata": {},
   "source": [
    "**977. Squares of a Sorted Array**"
   ]
  },
  {
   "cell_type": "code",
   "execution_count": null,
   "metadata": {},
   "outputs": [],
   "source": [
    "class Solution:\n",
    "    def sortedSquares(self, nums: List[int]) -> List[int]:\n",
    "        i, j, n = 0, len(nums)-1, len(nums)\n",
    "        res = [0] * n\n",
    "        while n > 0:\n",
    "            if abs(nums[i]) > abs(nums[j]):\n",
    "                square = nums[i]\n",
    "                i += 1\n",
    "            else:\n",
    "                square = nums[j]\n",
    "                j -= 1\n",
    "            res[n-1] = square * square\n",
    "            n -= 1\n",
    "        \n",
    "        return res"
   ]
  },
  {
   "cell_type": "markdown",
   "metadata": {},
   "source": [
    "**75. Sort Colors**"
   ]
  },
  {
   "cell_type": "code",
   "execution_count": null,
   "metadata": {},
   "outputs": [],
   "source": [
    "class Solution:\n",
    "    def sortColors(self, nums: List[int]) -> None:\n",
    "        \"\"\"\n",
    "        Do not return anything, modify nums in-place instead.\n",
    "        \"\"\"\n",
    "        p0 = 0 # the rightmost boundary of 0s\n",
    "        p2 = len(nums)-1 # the leftmost boundary of 2s\n",
    "        curr = 0 # index of current element\n",
    "\n",
    "        while curr <= p2:\n",
    "            if nums[curr] == 0:\n",
    "                nums[curr], nums[p0] = nums[p0], nums[curr]\n",
    "                p0 += 1\n",
    "                curr += 1\n",
    "            elif nums[curr] == 2:\n",
    "                nums[curr], nums[p2] = nums[p2], nums[curr]\n",
    "                p2 -= 1\n",
    "            else:\n",
    "                curr += 1"
   ]
  }
 ],
 "metadata": {
  "kernelspec": {
   "display_name": "Python 3",
   "language": "python",
   "name": "python3"
  },
  "language_info": {
   "codemirror_mode": {
    "name": "ipython",
    "version": 3
   },
   "file_extension": ".py",
   "mimetype": "text/x-python",
   "name": "python",
   "nbconvert_exporter": "python",
   "pygments_lexer": "ipython3",
   "version": "3.11.4"
  }
 },
 "nbformat": 4,
 "nbformat_minor": 2
}
