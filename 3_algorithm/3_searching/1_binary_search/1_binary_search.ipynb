{
 "cells": [
  {
   "cell_type": "markdown",
   "metadata": {},
   "source": [
    "# [Binary Search](https://leetcode.com/explore/interview/card/leetcodes-interview-crash-course-data-structures-and-algorithms/710/binary-search/4696/)\n",
    "\n",
    "> Binary search is a common optimization to a **linear scan** when searching for an element's index or insertion point if it doesn't exist."
   ]
  },
  {
   "cell_type": "markdown",
   "metadata": {},
   "source": [
    "**Boilerplate**"
   ]
  },
  {
   "cell_type": "code",
   "execution_count": null,
   "metadata": {},
   "outputs": [],
   "source": [
    "def binary_search(arr, target):\n",
    "    left, right = 0, len(arr) - 1\n",
    "    while left <= right:\n",
    "        middle = (left + right) // 2\n",
    "        if arr[middle] == target:\n",
    "            # do something\n",
    "            return\n",
    "        elif arr[middle] > target:\n",
    "            right = middle - 1\n",
    "        elif arr[middle] < target:\n",
    "            left = middle + 1\n",
    "\n",
    "    # target is not in the array, but left is at the insertion point\n",
    "    return left"
   ]
  },
  {
   "cell_type": "code",
   "execution_count": null,
   "metadata": {},
   "outputs": [],
   "source": [
    "class Solution:\n",
    "    def searchMatrix(self, matrix: List[List[int]], target: int) -> bool:\n",
    "        arr = []\n",
    "        for line in matrix:\n",
    "            arr += line\n",
    "        \n",
    "        left, right = 0, len(arr) - 1\n",
    "        while left <= right:\n",
    "            middle = (left + right) // 2\n",
    "            if arr[middle] == target:\n",
    "                return True\n",
    "            elif arr[middle] > target:\n",
    "                right = middle - 1\n",
    "            elif arr[middle] < target:\n",
    "                left = middle + 1\n",
    "        \n",
    "        return False"
   ]
  }
 ],
 "metadata": {
  "kernelspec": {
   "display_name": "Python 3",
   "language": "python",
   "name": "python3"
  },
  "language_info": {
   "codemirror_mode": {
    "name": "ipython",
    "version": 3
   },
   "file_extension": ".py",
   "mimetype": "text/x-python",
   "name": "python",
   "nbconvert_exporter": "python",
   "pygments_lexer": "ipython3",
   "version": "3.11.4"
  }
 },
 "nbformat": 4,
 "nbformat_minor": 2
}
