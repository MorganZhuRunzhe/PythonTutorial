{
 "cells": [
  {
   "cell_type": "markdown",
   "metadata": {},
   "source": [
    "# Programming Paradigms\n",
    "\n",
    "- **Imperative Programming**  \n",
    "  \n",
    "  > Focus on how to execute  \n",
    "\n",
    "  - **Object-oriented Programming**  \n",
    "  \n",
    "- **Declative Programming**  \n",
    "  \n",
    "  > Focus on what to execute  \n",
    "  > It defines program logic but not a detailed control flow\n",
    "  > e.g. SQl - just specify what we need not how it's done  \n",
    "\n",
    "  - **Functional Programming**  \n",
    "  > Python is a object-oriented language **NOT** a functional language. But there are some [takeaways from functional programming](https://www.youtube.com/watch?v=4B24vYj_vaI&ab_channel=ArjanCodes) to make code easier to maintain and easier to test"
   ]
  }
 ],
 "metadata": {
  "language_info": {
   "name": "python"
  }
 },
 "nbformat": 4,
 "nbformat_minor": 2
}
