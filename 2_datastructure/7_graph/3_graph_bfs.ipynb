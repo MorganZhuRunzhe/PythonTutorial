{
 "cells": [
  {
   "cell_type": "markdown",
   "metadata": {},
   "source": [
    "# [Graph - BFS](https://leetcode.com/explore/interview/card/leetcodes-interview-crash-course-data-structures-and-algorithms/707/traversals-trees-graphs/4631/)\n",
    "\n",
    "**Patterns of BFS in Graph**\n"
   ]
  },
  {
   "cell_type": "markdown",
   "metadata": {},
   "source": [
    "**1091. Shortest Path in Binary Matrix**"
   ]
  },
  {
   "cell_type": "code",
   "execution_count": null,
   "metadata": {},
   "outputs": [],
   "source": [
    "class Solution:\n",
    "    def shortestPathBinaryMatrix(self, grid: List[List[int]]) -> int:\n",
    "        \n",
    "        def valid(x, y):\n",
    "            return  0<= x < n and 0<= y < n and grid[x][y] == 0 and (x, y) not in seen\n",
    "\n",
    "        if grid[0][0] == 1:\n",
    "            return -1\n",
    "        else:\n",
    "            n = len(grid)\n",
    "            directions = [(-1, -1), (-1, 0), (-1, 1), (0, -1), (0, 1), (1, -1), (1, 0), (1, 1)]\n",
    "            seen = set((0, 0))\n",
    "            queue = deque([(0, 0)])\n",
    "            ans = 0\n",
    "            while queue:\n",
    "                ans += 1\n",
    "                for i in range(len(queue)):\n",
    "                    curr = queue.popleft()\n",
    "                    curr_x, curr_y = curr[0], curr[1]\n",
    "                    if curr == (n-1, n-1):\n",
    "                        return ans\n",
    "                    for dx, dy in directions:\n",
    "                        next_x, next_y = curr_x + dx, curr_y + dy\n",
    "                        if valid(next_x, next_y):\n",
    "                            seen.add((next_x, next_y))\n",
    "                            queue.append((next_x, next_y))\n",
    "            \n",
    "            return -1"
   ]
  },
  {
   "cell_type": "markdown",
   "metadata": {},
   "source": [
    "**1293. Shortest Path in a Grid with Obstacles Elimination**"
   ]
  },
  {
   "cell_type": "code",
   "execution_count": null,
   "metadata": {},
   "outputs": [],
   "source": [
    "class Solution:\n",
    "    def shortestPath(self, grid: List[List[int]], k: int) -> int:\n",
    "\n",
    "        def valid(row, col, skip):\n",
    "            return 0 <= row < m and  0 <= col < n \n",
    "\n",
    "        m, n = len(grid), len(grid[0])\n",
    "        directions = [(-1, 0), (1, 0), (0, -1), (0, 1)]\n",
    "        seen ={(0, 0, 0)}\n",
    "        step = 0\n",
    "        queue = deque([(0, 0, 0)]) # track the state of each cell with how many obstacles have been skipped\n",
    "        while queue:\n",
    "            for _ in range(len(queue)):\n",
    "                curr = queue.popleft()\n",
    "                x, y, skip = curr[0], curr[1], curr[2]\n",
    "                if x == m-1 and y == n-1:\n",
    "                    return step\n",
    "                for direction in directions:\n",
    "                    dx, dy = direction[0], direction[1]\n",
    "                    x_next, y_next = x + dx, y + dy\n",
    "                    if valid(x_next, y_next, skip):\n",
    "                        if grid[x_next][y_next] == 0 and (x_next, y_next, skip) not in seen:\n",
    "                            seen.add((x_next, y_next, skip))\n",
    "                            queue.append((x_next, y_next, skip))\n",
    "                        # elif grid[x_next][y_next] == 1 and (x_next, y_next, skip) not in seen:    \n",
    "                        elif grid[x_next][y_next] == 1 and (x_next, y_next, skip+1) not in seen:\n",
    "                            if skip < k:\n",
    "                                seen.add((x_next, y_next, skip+1))\n",
    "                                queue.append((x_next, y_next, skip+1))\n",
    "            step += 1\n",
    "        \n",
    "        return -1"
   ]
  },
  {
   "cell_type": "markdown",
   "metadata": {},
   "source": [
    "**863. All Nodes Distance K in Binary Tree**"
   ]
  },
  {
   "cell_type": "code",
   "execution_count": null,
   "metadata": {},
   "outputs": [],
   "source": [
    "# Definition for a binary tree node.\n",
    "# class TreeNode:\n",
    "#     def __init__(self, x):\n",
    "#         self.val = x\n",
    "#         self.left = None\n",
    "#         self.right = None\n",
    "\n",
    "class Solution:\n",
    "    def distanceK(self, root: TreeNode, target: TreeNode, k: int) -> List[int]:\n",
    "        \n",
    "        def dfs(node):\n",
    "            if not node:\n",
    "                return\n",
    "            if node.left:\n",
    "                graph[node.val].append(node.left.val)\n",
    "                graph[node.left.val].append(node.val)\n",
    "                dfs(node.left)\n",
    "            if node.right:\n",
    "                graph[node.val].append(node.right.val)\n",
    "                graph[node.right.val].append(node.val)\n",
    "                dfs(node.right)\n",
    "        \n",
    "        graph = defaultdict(list)\n",
    "        dfs(root) # build graph - dfs\n",
    "\n",
    "        # traverse graph - bfs\n",
    "        queue = deque([target.val])\n",
    "        seen = {target.val}\n",
    "        while queue:\n",
    "            if k == 0: # edge case: the assigned k is 0 i.e. return target \n",
    "                return list(queue)\n",
    "            for i in range(len(queue)):\n",
    "                curr = queue.popleft()\n",
    "                for neighbour in graph[curr]:\n",
    "                    if neighbour not in seen:\n",
    "                        seen.add(neighbour)\n",
    "                        queue.append(neighbour)\n",
    "            k -= 1\n",
    "        \n",
    "        return []"
   ]
  },
  {
   "cell_type": "markdown",
   "metadata": {},
   "source": [
    "**542. 01 Matrix**"
   ]
  },
  {
   "cell_type": "code",
   "execution_count": null,
   "metadata": {},
   "outputs": [],
   "source": [
    "class Solution:\n",
    "    def updateMatrix(self, mat: List[List[int]]) -> List[List[int]]:\n",
    "        \n",
    "        def valid(row, col):\n",
    "            return 0 <= row < m and 0 <= col < n and mat[row][col] and mat[row][col] == 1 and (row, col) not in seen\n",
    "\n",
    "        m, n = len(mat), len(mat[0])\n",
    "        directions = [(-1, 0), (1, 0), (0, -1,), (0, 1)]\n",
    "        queue = deque()\n",
    "        seen = set()\n",
    "        distance = 0\n",
    "        ans = mat\n",
    "        for i in range(m):\n",
    "            for j in range(n):\n",
    "                if mat[i][j] == 0:\n",
    "                    queue.append((i, j))\n",
    "                    seen.add((i, j))\n",
    "        \n",
    "        while queue:\n",
    "            for _ in range(len(queue)):\n",
    "                curr = queue.popleft()\n",
    "                x, y = curr[0], curr[1]\n",
    "                if mat[x][y] == 1:\n",
    "                    ans[x][y] = distance\n",
    "                for direction in directions:\n",
    "                    dx, dy = direction[0], direction[1]\n",
    "                    x_next, y_next = x + dx, y + dy\n",
    "                    if valid(x_next, y_next):\n",
    "                        seen.add((x_next, y_next))\n",
    "                        queue.append((x_next, y_next))\n",
    "            distance += 1\n",
    "        \n",
    "        return ans"
   ]
  }
 ],
 "metadata": {
  "kernelspec": {
   "display_name": "Python 3",
   "language": "python",
   "name": "python3"
  },
  "language_info": {
   "codemirror_mode": {
    "name": "ipython",
    "version": 3
   },
   "file_extension": ".py",
   "mimetype": "text/x-python",
   "name": "python",
   "nbconvert_exporter": "python",
   "pygments_lexer": "ipython3",
   "version": "3.11.4"
  }
 },
 "nbformat": 4,
 "nbformat_minor": 2
}
