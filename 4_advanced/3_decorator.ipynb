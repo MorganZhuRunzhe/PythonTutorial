{
 "cells": [
  {
   "cell_type": "markdown",
   "metadata": {},
   "source": [
    "# Decorator"
   ]
  },
  {
   "cell_type": "markdown",
   "metadata": {},
   "source": [
    "**First Class Functions**\n",
    "\n",
    "Python supports the concept of First Class Functions. \n",
    "Properties of first class functions:\n",
    "- A function is an instance of the Object type.\n",
    "- A fcuntion can be stored in a variable.\n",
    "- A function can be passed as a parameter to another function.\n",
    "- A function can be returned from a function.\n",
    "- A function can be stored in data structures"
   ]
  },
  {
   "cell_type": "code",
   "execution_count": 2,
   "metadata": {},
   "outputs": [
    {
     "name": "stdout",
     "output_type": "stream",
     "text": [
      "Log: Hi Loopy!\n",
      "<function logger.<locals>.log_message at 0x7fd6d85d6040>\n"
     ]
    }
   ],
   "source": [
    "def logger(msg):\n",
    "\n",
    "    def log_message():\n",
    "        print('Log:', msg)\n",
    "\n",
    "    return log_message\n",
    "\n",
    "log_hi = logger('Hi Loopy!')\n",
    "log_hi() # with (), we are executing the function\n",
    "print(log_hi) # without (), we are passing the function"
   ]
  },
  {
   "cell_type": "markdown",
   "metadata": {},
   "source": [
    "**Closure**\n",
    "\n",
    "> Objects are data with methods attached  \n",
    "> Closures are functions with data attached\n",
    "\n",
    "**When and Why to Use**\n",
    "\n",
    "1. To reduce the use of global variables  \n",
    "   i.e. variables can be defined in the outer function and used in the inner function\n",
    "\n",
    "2. Closures vs Classes  \n",
    "   When we have few functions, closures  \n",
    "   When we have many functions, classes\n",
    "\n",
    "3. For class with only one extra method, closure\n",
    "\n"
   ]
  },
  {
   "cell_type": "code",
   "execution_count": 4,
   "metadata": {},
   "outputs": [
    {
     "name": "stdout",
     "output_type": "stream",
     "text": [
      "Hey!\n"
     ]
    }
   ],
   "source": [
    "def outerFunction(text): \n",
    " \n",
    "    def innerFunction(): \n",
    "        print(text) \n",
    " \n",
    "    # Note we are returning function\n",
    "    # WITHOUT parenthesis\n",
    "    return innerFunction  \n",
    " \n",
    "if __name__ == '__main__': \n",
    "    myFunction = outerFunction('Hey!') \n",
    "    myFunction()"
   ]
  },
  {
   "cell_type": "markdown",
   "metadata": {},
   "source": [
    "**Decorator**\n",
    "\n",
    "> The decorator is a function that accepts another function as an argument and then call inside the wrapper function.  \n",
    "> The decorator will usually modify or enhance the function it accept and return the modified function."
   ]
  },
  {
   "cell_type": "code",
   "execution_count": 10,
   "metadata": {},
   "outputs": [
    {
     "name": "stdout",
     "output_type": "stream",
     "text": [
      "wrapper executed this before display\n",
      "display function ran\n"
     ]
    }
   ],
   "source": [
    "def decorator_function(original_function):\n",
    "\n",
    "    def wrapper_function():\n",
    "        print('wrapper executed this before {}'.format(original_function.__name__))\n",
    "        return original_function()\n",
    "    \n",
    "    return wrapper_function\n",
    "\n",
    "'''\n",
    "adding decorator to the function i.e.\n",
    "passing the function as a parameter to the decorator function (python support the concept of first class function)\n",
    "we can do this either by decorator_function(display) or @decorator_function\n",
    "'''\n",
    "@decorator_function\n",
    "def display():\n",
    "    print('display function ran')\n",
    "\n",
    "# display = decorator_function(display)\n",
    "display()\n"
   ]
  },
  {
   "cell_type": "markdown",
   "metadata": {},
   "source": [
    "**What if a function returns something or an argument is passed to the function?**   \n",
    "`*args` and `**kwargs`"
   ]
  },
  {
   "cell_type": "code",
   "execution_count": null,
   "metadata": {},
   "outputs": [],
   "source": [
    "def decorator_function(original_function):\n",
    "\n",
    "    def wrapper_function(*args, **kwargs):\n",
    "        print('wrapper executed this before {}'.format(original_function.__name__))\n",
    "        return original_function()\n",
    "    \n",
    "    return wrapper_function\n",
    "\n",
    "\n",
    "@decorator_function\n",
    "def display():\n",
    "    print('display function ran')\n",
    "\n",
    "# display = decorator_function(display)\n",
    "display()\n"
   ]
  },
  {
   "cell_type": "markdown",
   "metadata": {},
   "source": [
    "**Chaining Decorators**\n",
    "\n",
    "> In simpler terms chaining decorators means decorating a function with multiple decorators."
   ]
  }
 ],
 "metadata": {
  "kernelspec": {
   "display_name": "base",
   "language": "python",
   "name": "python3"
  },
  "language_info": {
   "codemirror_mode": {
    "name": "ipython",
    "version": 3
   },
   "file_extension": ".py",
   "mimetype": "text/x-python",
   "name": "python",
   "nbconvert_exporter": "python",
   "pygments_lexer": "ipython3",
   "version": "3.9.12"
  }
 },
 "nbformat": 4,
 "nbformat_minor": 2
}
