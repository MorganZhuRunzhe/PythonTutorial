{
 "cells": [
  {
   "cell_type": "markdown",
   "metadata": {},
   "source": [
    "# [Reversing a Linked List](https://leetcode.com/explore/interview/card/leetcodes-interview-crash-course-data-structures-and-algorithms/704/linked-lists/4600/)"
   ]
  },
  {
   "cell_type": "markdown",
   "metadata": {},
   "source": [
    "**206. Reverse Linked List**"
   ]
  },
  {
   "cell_type": "code",
   "execution_count": null,
   "metadata": {},
   "outputs": [],
   "source": [
    "# Definition for singly-linked list.\n",
    "# class ListNode:\n",
    "#     def __init__(self, val=0, next=None):\n",
    "#         self.val = val\n",
    "#         self.next = next\n",
    "class Solution:\n",
    "    def reverseList(self, head: ListNode) -> ListNode:\n",
    "        prev = None\n",
    "        curr = head\n",
    "        while curr:\n",
    "            next_node = curr.next\n",
    "            curr.next = prev\n",
    "            prev = curr\n",
    "            curr =  next_node\n",
    "        \n",
    "        return prev"
   ]
  },
  {
   "cell_type": "markdown",
   "metadata": {},
   "source": [
    "**24. Swap Nodes in Pairs**\n",
    "\n",
    "1. Perform an edge swap from `A -> B -> C -> ...` to `A <-> B C -> ...`\n",
    "   But, before that\n",
    "   - Save C (`next_node`) to access the rest of the list beyond the current pair\n",
    "2. Now that `A <-> B` is isolated from the rest of the list, save a pointer to `A` `(prev)` to **reconnect it with the rest of list later**.\n",
    "3. Move to the next pair (`curr = next_node`)\n",
    "4. **Connect the previous pair to the rest of the list**\n",
    "   - If there is an odd number of nodes, `A -> C` (`prev.next = curr`)\n",
    "   - If there is an even number of nodes, `A -> D` (`prev.next = curr.next`)\n",
    "5. Use a **dummy pointer** to keep a reference to what we want to return\n",
    "   > Using the dummy pointer allows us to traverse the linked list without losing a reference to the head."
   ]
  },
  {
   "cell_type": "code",
   "execution_count": null,
   "metadata": {},
   "outputs": [],
   "source": [
    "# Definition for singly-linked list.\n",
    "# class ListNode:\n",
    "#     def __init__(self, val=0, next=None):\n",
    "#         self.val = val\n",
    "#         self.next = next\n",
    "class Solution:\n",
    "    def swapPairs(self, head: Optional[ListNode]) -> Optional[ListNode]:\n",
    "        # edge case: linked list has 0 or 1 node\n",
    "        if not head or not head.next:\n",
    "            return head\n",
    "        \n",
    "        dummy, curr = head.next, head\n",
    "        prev = None\n",
    "\n",
    "        while curr and curr.next:\n",
    "            if prev:\n",
    "                prev.next = curr.next\n",
    "            prev = curr\n",
    "            next_node = curr.next.next\n",
    "            curr.next.next = curr\n",
    "            curr.next = next_node\n",
    "            curr = next_node\n",
    "        \n",
    "        return dummy"
   ]
  }
 ],
 "metadata": {
  "language_info": {
   "name": "python"
  }
 },
 "nbformat": 4,
 "nbformat_minor": 2
}
