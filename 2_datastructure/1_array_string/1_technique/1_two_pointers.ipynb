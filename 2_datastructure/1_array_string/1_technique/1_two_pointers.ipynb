{
 "cells": [
  {
   "cell_type": "markdown",
   "metadata": {},
   "source": [
    "# [Two pointers](https://leetcode.com/explore/interview/card/leetcodes-interview-crash-course-data-structures-and-algorithms/703/arraystrings/4501/)\n",
    "\n",
    "Two pointers is an extremely common technique used to solve array and string problems.  \n",
    "\n",
    "There are several ways to implement two pointers:\n",
    "- When having **one iterable** in the input:  \n",
    "  > Start the pointers at the edges of the input. Move them towards each other until they meet.\n",
    "  <br></br>   \n",
    "  - [X] 167. Two Sum II - Input Array Is Sorted\n",
    "  - [X] 125. Valid Palindrome  \n",
    "  <br></br>  \n",
    "- When having **two iterables** in the input:\n",
    "  > Move along both inputs simultaneously until all elements have been checked."
   ]
  },
  {
   "cell_type": "markdown",
   "metadata": {},
   "source": [
    "**167. Two Sum II - Input Array Is Sorted**"
   ]
  },
  {
   "cell_type": "code",
   "execution_count": 14,
   "metadata": {},
   "outputs": [],
   "source": [
    "class Solution:\n",
    "    def twoSum(self, numbers: List[int], target: int) -> List[int]:\n",
    "        l, r = 0, len(numbers)-1\n",
    "        while l < r:\n",
    "            if numbers[l] + numbers[r] == target:\n",
    "                return [l+1, r+1]\n",
    "            elif numbers[l] + numbers[r] < target:\n",
    "                l += 1\n",
    "            elif numbers[l] + numbers[r] > target:\n",
    "                r -= 1\n",
    "        \n",
    "        return []"
   ]
  },
  {
   "cell_type": "markdown",
   "metadata": {},
   "source": [
    "**125. Valid Palindrome**"
   ]
  },
  {
   "cell_type": "code",
   "execution_count": 4,
   "metadata": {},
   "outputs": [],
   "source": [
    "class Solution:\n",
    "    def isPalindrome(self, s: str) -> bool:\n",
    "        \n",
    "        filtered = filter(lambda ch: ch.isalnum(), s)\n",
    "        transformed = list(map(lambda ch: ch.lower(), filtered))\n",
    "\n",
    "        i, j = 0, len(transformed)-1\n",
    "        while i < j:\n",
    "            if transformed[i] != transformed[j]:\n",
    "                return False\n",
    "            i += 1\n",
    "            j -= 1\n",
    "        \n",
    "        return True"
   ]
  }
 ],
 "metadata": {
  "kernelspec": {
   "display_name": "Python 3",
   "language": "python",
   "name": "python3"
  },
  "language_info": {
   "codemirror_mode": {
    "name": "ipython",
    "version": 3
   },
   "file_extension": ".py",
   "mimetype": "text/x-python",
   "name": "python",
   "nbconvert_exporter": "python",
   "pygments_lexer": "ipython3",
   "version": "3.11.4"
  }
 },
 "nbformat": 4,
 "nbformat_minor": 2
}
