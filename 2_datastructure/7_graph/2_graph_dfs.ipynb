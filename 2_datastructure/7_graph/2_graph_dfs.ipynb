{
 "cells": [
  {
   "cell_type": "markdown",
   "metadata": {},
   "source": [
    "# Graph - DFS\n",
    "\n",
    "**Patterns of DFS in Graph**\n",
    "- `build_graph()`\n",
    "- `traverse_graph_dfs()`"
   ]
  },
  {
   "cell_type": "markdown",
   "metadata": {},
   "source": [
    "**1971. Find if Path Exists in Graph**"
   ]
  },
  {
   "cell_type": "code",
   "execution_count": null,
   "metadata": {},
   "outputs": [],
   "source": [
    "class Solution:\n",
    "    def validPath(self, n: int, edges: List[List[int]], source: int, destination: int) -> bool:\n",
    "\n",
    "        def build_graph():\n",
    "            for edge in edges:\n",
    "                graph[edge[0]].append(edge[1])\n",
    "                graph[edge[1]].append(edge[0])\n",
    "        \n",
    "        def traverse_graph(node):\n",
    "            nonlocal ans\n",
    "            for neighbour in graph[node]:\n",
    "                if neighbour not in seen:\n",
    "                    seen.add(neighbour)\n",
    "                    if neighbour == destination:\n",
    "                        ans = True\n",
    "                    traverse_graph(neighbour)\n",
    "\n",
    "        graph = defaultdict(list)\n",
    "        build_graph()\n",
    "        \n",
    "        ans = source == destination\n",
    "        seen = {source}\n",
    "        traverse_graph(source)\n",
    "\n",
    "        return ans"
   ]
  },
  {
   "cell_type": "markdown",
   "metadata": {},
   "source": [
    "**547. Number of Provinces**\n",
    "1. Check for the base case\n",
    "2. Recursively call on all neighbors\n",
    "3. Do some logic to calculate the answer\n",
    "4. Return the answer."
   ]
  },
  {
   "cell_type": "code",
   "execution_count": null,
   "metadata": {},
   "outputs": [],
   "source": [
    "from collections import defaultdict\n",
    "\n",
    "class Solution:\n",
    "    def findCircleNum(self, isConnected: List[List[int]]) -> int:\n",
    "\n",
    "        def build_graph(): # adjacency list\n",
    "            for i in range(node_cnt):\n",
    "                for j in range(i+1, node_cnt):\n",
    "                    if isConnected[i][j] == 1:\n",
    "                        graph[i].append(j)\n",
    "                        graph[j].append(i)\n",
    "\n",
    "        def traverse_graph(node):\n",
    "            for neighbour in graph[node]:\n",
    "                if neighbour not in seen:\n",
    "                    seen.add(neighbour)\n",
    "                    traverse_graph(neighbour)\n",
    "\n",
    "        node_cnt = len(isConnected)\n",
    "        graph = defaultdict(list)\n",
    "        build_graph()\n",
    "\n",
    "        seen = set()\n",
    "        ans = 0\n",
    "        for i in range(node_cnt):\n",
    "            if i not in seen:\n",
    "                ans += 1\n",
    "                seen.add(i)\n",
    "                traverse_graph(i)\n",
    "        \n",
    "        return ans"
   ]
  },
  {
   "cell_type": "markdown",
   "metadata": {},
   "source": [
    "**200. Number of Islands**"
   ]
  },
  {
   "cell_type": "code",
   "execution_count": 30,
   "metadata": {},
   "outputs": [],
   "source": [
    "class Solution:\n",
    "    def numIslands(self, grid: List[List[str]]) -> int:\n",
    "        \n",
    "        def valid(row, col):\n",
    "            return 0 <= row < m and 0 <= col < n and grid[row][col] == \"1\"\n",
    "        \n",
    "        def dfs(row, col):\n",
    "            for dy, dx in directions:\n",
    "                next_row, next_col = row + dy, col + dx\n",
    "                if valid(next_row, next_col) and (next_row, next_col) not in seen:\n",
    "                    seen.add((next_row, next_col))\n",
    "                    dfs(next_row, next_col)\n",
    "\n",
    "        directions = [(-1, 0), (1, 0), (0, -1), (0, 1)]\n",
    "        seen = set()\n",
    "        ans = 0\n",
    "        m = len(grid)\n",
    "        n = len(grid[0])\n",
    "        for row in range(m):\n",
    "            for col in range(n):\n",
    "                if grid[row][col] == \"1\" and (row, col) not in seen:\n",
    "                    ans += 1\n",
    "                    seen.add((row, col))\n",
    "                    dfs(row, col)\n",
    "        \n",
    "        return ans"
   ]
  },
  {
   "cell_type": "markdown",
   "metadata": {},
   "source": [
    "**1466. Reorder Routes to Make All Paths Lead to the City Zero**"
   ]
  },
  {
   "cell_type": "code",
   "execution_count": null,
   "metadata": {},
   "outputs": [],
   "source": [
    "class Solution:\n",
    "    def minReorder(self, n: int, connections: List[List[int]]) -> int:\n",
    "        \n",
    "        # build the undirected graph for traversal\n",
    "        def build_graph(): \n",
    "            for c in connections:\n",
    "                graph[c[0]].append(c[1])\n",
    "                graph[c[1]].append(c[0])\n",
    "                directed_edges.add((c[0], c[1]))  # Add directed edge to the set\n",
    "        \n",
    "        # traverse the undirected graph to simulate the evacuation\n",
    "        def traverse_graph(start):\n",
    "            nonlocal ans\n",
    "            for end in graph[start]:\n",
    "                if end not in seen:\n",
    "                    seen.add(end)\n",
    "                    if (start, end) in directed_edges:\n",
    "                        ans += 1\n",
    "                    traverse_graph(end)\n",
    "\n",
    "        graph = defaultdict(list)\n",
    "        directed_edges = set()  # To keep track of the original direction of roads\n",
    "        build_graph()\n",
    "\n",
    "        seen = set()\n",
    "        ans = 0\n",
    "        seen.add(0)\n",
    "        traverse_graph(0)\n",
    "\n",
    "        return ans"
   ]
  },
  {
   "cell_type": "markdown",
   "metadata": {},
   "source": [
    "**841. Keys and Rooms**"
   ]
  },
  {
   "cell_type": "code",
   "execution_count": null,
   "metadata": {},
   "outputs": [],
   "source": [
    "class Solution:\n",
    "    def canVisitAllRooms(self, rooms: List[List[int]]) -> bool:\n",
    "\n",
    "        def build_graph():\n",
    "            for id in range(len(rooms)):\n",
    "                graph[id] = rooms[id]\n",
    "        \n",
    "        def traverse_graph(room):\n",
    "            for key in graph[room]:\n",
    "                if key not in seen:\n",
    "                    seen.add(key)\n",
    "                    traverse_graph(key)\n",
    "\n",
    "        graph = dict()\n",
    "        build_graph()\n",
    "\n",
    "        seen = {0}\n",
    "        traverse_graph(0)\n",
    "\n",
    "        return len(seen) == len(rooms)"
   ]
  },
  {
   "cell_type": "code",
   "execution_count": null,
   "metadata": {},
   "outputs": [],
   "source": [
    "class Solution:\n",
    "    def findSmallestSetOfVertices(self, n: int, edges: List[List[int]]) -> List[int]:\n",
    "        node_indegree =  set()\n",
    "        node = set()\n",
    "\n",
    "        for edge in edges:\n",
    "            node_indegree.add(edge[1])\n",
    "            node.add(edge[0])\n",
    "            node.add(edge[1])\n",
    "\n",
    "        return node - node_indegree"
   ]
  },
  {
   "cell_type": "markdown",
   "metadata": {},
   "source": [
    "**323. Number of Connected Components in an Undirected Graph**"
   ]
  },
  {
   "cell_type": "code",
   "execution_count": null,
   "metadata": {},
   "outputs": [],
   "source": [
    "class Solution:\n",
    "    def countComponents(self, n: int, edges: List[List[int]]) -> int:\n",
    "        \n",
    "        def build_graph():\n",
    "            for edge in edges:\n",
    "                graph[edge[0]].append(edge[1])\n",
    "                graph[edge[1]].append(edge[0])\n",
    "\n",
    "        def traverse_graph(node):\n",
    "            for neighbour in graph[node]:\n",
    "                if neighbour not in seen:\n",
    "                    seen.add(neighbour)\n",
    "                    traverse_graph(neighbour)\n",
    "\n",
    "        graph = defaultdict(list)\n",
    "        build_graph()\n",
    "\n",
    "        seen = set()\n",
    "        ans = 0\n",
    "        for i in range(n):\n",
    "            if i not in seen:\n",
    "                seen.add(i)\n",
    "                traverse_graph(i)\n",
    "                ans += 1\n",
    "        \n",
    "        return ans"
   ]
  }
 ],
 "metadata": {
  "kernelspec": {
   "display_name": "Python 3",
   "language": "python",
   "name": "python3"
  },
  "language_info": {
   "codemirror_mode": {
    "name": "ipython",
    "version": 3
   },
   "file_extension": ".py",
   "mimetype": "text/x-python",
   "name": "python",
   "nbconvert_exporter": "python",
   "pygments_lexer": "ipython3",
   "version": "3.11.4"
  }
 },
 "nbformat": 4,
 "nbformat_minor": 2
}
