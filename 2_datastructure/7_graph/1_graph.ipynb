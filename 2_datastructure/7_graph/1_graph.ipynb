{
 "cells": [
  {
   "cell_type": "markdown",
   "metadata": {},
   "source": [
    "# Graph\n",
    "\n",
    "**Mechanics of Graph**\n",
    "- **Construction**\n",
    "  - **Input: Array of Edges**\n",
    "    > Building graph from an array of edges using **hashmap**\n",
    "    ```python\n",
    "    from collections import defaultdict\n",
    "\n",
    "    def build_graph(edges):\n",
    "      graph = defaultdict(list)\n",
    "      for x, y in edges:\n",
    "        graph[x].append(y)\n",
    "        graph[y].append(x) # if undirected\n",
    "      \n",
    "      return graph\n",
    "    ```\n",
    "  - **Input: Adjacency Lists**\n",
    "    > Given a 2D integer array i.e. graph. graph[i] will be a list of all the outgoing edges from the node.\n",
    "  - **Input: Adjacency Matrix**\n",
    "    > Given a 2D matrix of size n x n i.e. graph, if graph[i][j] == 1, that means there is an outgoing edge from node i to node j.\n",
    "  - **Input: Matrix**\n",
    "    > The input will be a 2D matrix and the problem will describe a story. Each square will represent something, and the squares will be connected in some way.\n",
    "\n",
    "- **Graphs vs Trees**\n",
    "\n",
    "- **Traversal**\n",
    "  - **Graph - DFS**\n",
    "    - [X] 1971. Find if Path Exists in Graph\n",
    "    - [X] 547. Number of Provinces\n",
    "    - [X] 200. Number of Islands\n",
    "    - [X] 1466. Reorder Routes to Make All Paths Lead to the City Zero\n",
    "    - [X] 841. Keys and Rooms\n",
    "  \n",
    "  - **Graph - BFS**\n",
    "\n",
    "\n",
    "**Patterns of Graph**\n",
    "\n"
   ]
  }
 ],
 "metadata": {
  "kernelspec": {
   "display_name": "Python 3",
   "language": "python",
   "name": "python3"
  },
  "language_info": {
   "codemirror_mode": {
    "name": "ipython",
    "version": 3
   },
   "file_extension": ".py",
   "mimetype": "text/x-python",
   "name": "python",
   "nbconvert_exporter": "python",
   "pygments_lexer": "ipython3",
   "version": "3.11.4"
  }
 },
 "nbformat": 4,
 "nbformat_minor": 2
}
