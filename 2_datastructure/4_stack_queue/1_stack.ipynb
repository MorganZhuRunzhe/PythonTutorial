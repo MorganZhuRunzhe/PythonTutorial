{
 "cells": [
  {
   "cell_type": "markdown",
   "metadata": {},
   "source": [
    "# [Stack](https://leetcode.com/explore/interview/card/leetcodes-interview-crash-course-data-structures-and-algorithms/706/stacks-and-queues/4514/)\n",
    "\n",
    "> A stack is an ordered collection of elements where elements are only added and removed from the same end i.e. **LIFO last in, first out**    \n",
    "> In the physical world, an example of a stack would be **a stack of plates in a kitchen - you add plates or remove plates from the top of the pile**.\n",
    "\n",
    "**Mechanics of Stack**\n",
    "- Push\n",
    "- Pop\n",
    "- Peek(display)\n",
    "\n",
    "**Patterns of Stack**\n",
    "\n",
    "> **Stacks and recursion are very similar.** This is because recursion is actually done using a stack. Function calls are pushed n a stack. The call at the top of the stack at any given mment is the \"active\" call. n a return statement r the end of the functin being reached, the current call is popped off the stack.\n",
    "\n",
    "- **String Matching**\n",
    "  > Stacks are useful for string matching because it saves a \"history\" of the previous characters.  \n",
    "  > For example, iterating over the string and putting characters into the stack, and comparing the top of the stack with the current character at each iteration."
   ]
  },
  {
   "cell_type": "markdown",
   "metadata": {},
   "source": [
    "**20. Valid Parentheses**\n",
    "\n",
    "> Last in, First out - the last (most recent) opening bracket is the first to be closed"
   ]
  },
  {
   "cell_type": "code",
   "execution_count": null,
   "metadata": {},
   "outputs": [],
   "source": [
    "class Solution:\n",
    "    def isValid(self, s: str) -> bool:\n",
    "        map = {\n",
    "            '(': ')',\n",
    "            '[': ']',\n",
    "            '{': '}'\n",
    "            }\n",
    "        stack = []\n",
    "        \n",
    "        for c in s:\n",
    "            if c in map:\n",
    "                stack.append(c)\n",
    "            else:\n",
    "                if not stack:\n",
    "                    return False\n",
    "\n",
    "                if map[stack[-1]] == c:\n",
    "                    stack.pop()\n",
    "                else:\n",
    "                    return False\n",
    "        \n",
    "        return len(stack) == 0"
   ]
  },
  {
   "cell_type": "markdown",
   "metadata": {},
   "source": [
    "**71. Simplify Path**\n",
    "\n",
    "> Split the input string using `/` as the delimiter."
   ]
  },
  {
   "cell_type": "code",
   "execution_count": null,
   "metadata": {},
   "outputs": [],
   "source": [
    "class Solution:\n",
    "    def simplifyPath(self, path: str) -> str:\n",
    "        stack = []\n",
    "        \n",
    "        for portion in path.split('/'):\n",
    "            if portion == '..':\n",
    "                if stack:\n",
    "                    stack.pop()\n",
    "            elif portion == '.' or not portion:\n",
    "                continue\n",
    "            else:\n",
    "                stack.append(portion)\n",
    "        \n",
    "        return '/' + '/'.join(stack)"
   ]
  }
 ],
 "metadata": {
  "kernelspec": {
   "display_name": "Python 3",
   "language": "python",
   "name": "python3"
  },
  "language_info": {
   "codemirror_mode": {
    "name": "ipython",
    "version": 3
   },
   "file_extension": ".py",
   "mimetype": "text/x-python",
   "name": "python",
   "nbconvert_exporter": "python",
   "pygments_lexer": "ipython3",
   "version": "3.11.4"
  }
 },
 "nbformat": 4,
 "nbformat_minor": 2
}
