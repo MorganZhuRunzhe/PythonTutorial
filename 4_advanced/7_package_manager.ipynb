{
 "cells": [
  {
   "cell_type": "markdown",
   "metadata": {},
   "source": [
    "# Package Manager\n",
    "\n",
    "- PyPI\n",
    "- [Pip](https://realpython.com/what-is-pip/#finding-pip-on-your-system)\n",
    "- Conda"
   ]
  },
  {
   "cell_type": "markdown",
   "metadata": {},
   "source": [
    "**Pip - Using Requirements Files**\n",
    "\n",
    "- **Pinning Requirements File**\n",
    "  - to generate the requirements file  \n",
    "  \n",
    "    ```console\n",
    "    python3 -m pip freeze > requirements.txt\n",
    "    ```  \n",
    "    \n",
    "  - to replicate the environment in another system\n",
    "  \n",
    "    ```console\n",
    "    python3 -m pip install -r requirements.txt\n",
    "    ```  \n",
    "\n",
    "  - to display packages just installed  \n",
    "\n",
    "    ```console\n",
    "    python3 -m pip list\n",
    "    ```\n",
    "\n",
    "- Fine Runing Requirements\n",
    "- Seperating Development and Production Environment\n",
    "- Freezing Requirements for Production\n",
    "\n"
   ]
  }
 ],
 "metadata": {
  "language_info": {
   "name": "python"
  }
 },
 "nbformat": 4,
 "nbformat_minor": 2
}
