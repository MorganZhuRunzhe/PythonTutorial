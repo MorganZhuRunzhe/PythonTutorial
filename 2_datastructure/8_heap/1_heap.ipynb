{
 "cells": [
  {
   "cell_type": "markdown",
   "metadata": {},
   "source": [
    "# Heap\n",
    "\n",
    "> A heap is a data structure that is an implementation of the **priority queue**.\n",
    "\n",
    "**Types of Heap**\n",
    "- Min Heap: heap configured to find/remove the min element\n",
    "- Max Heap: heap configured to find/remove the max element\n",
    "\n",
    "**Min Heap -> Max Heap**: multiply all numbers by -1\n",
    "```python\n",
    "lst = [1, 2, 3]\n",
    "lst_negated = [-x for x in lst]\n",
    "```\n",
    "\n",
    "**Patterns of Heap**\n",
    "\n",
    "> A heap is a great option whenever you need to **find the maximum or minimum of something repeatedly**.\n",
    "- **Top K**\n",
    "\n"
   ]
  },
  {
   "cell_type": "markdown",
   "metadata": {},
   "source": [
    "**Heap Interface**"
   ]
  },
  {
   "cell_type": "code",
   "execution_count": null,
   "metadata": {},
   "outputs": [],
   "source": [
    "# In Python, we will use the heapq module\n",
    "# Note: heapq only implements min heaps\n",
    "from heapq import *\n",
    "\n",
    "# Declaration: heapq does not give you a heap data structure.\n",
    "# You just use a normal list, and heapq provides you with\n",
    "# methods that can be used on this list to perform heap operations\n",
    "heap = []\n",
    "\n",
    "# Add to heap\n",
    "heappush(heap, 1)\n",
    "heappush(heap, 2)\n",
    "heappush(heap, 3)\n",
    "\n",
    "# Check minimum element\n",
    "heap[0] # 1\n",
    "\n",
    "# Pop minimum element\n",
    "heappop(heap) # 1\n",
    "\n",
    "# Get size\n",
    "len(heap) # 2\n",
    "\n",
    "# Bonus: convert a list to a heap in linear time\n",
    "nums = [43, 2, 13, 634, 120]\n",
    "heapify(nums)\n",
    "\n",
    "# Now, you can use heappush and heappop on nums\n",
    "# and nums[0] will always be the minimum element"
   ]
  },
  {
   "cell_type": "markdown",
   "metadata": {},
   "source": [
    "**1046. Last Stone Weight**"
   ]
  },
  {
   "cell_type": "code",
   "execution_count": null,
   "metadata": {},
   "outputs": [],
   "source": [
    "from heapq import *\n",
    "\n",
    "class Solution:\n",
    "    def lastStoneWeight(self, stones: List[int]) -> int:\n",
    "        \n",
    "        if len(stones) == 1:\n",
    "            return stones[0]\n",
    "\n",
    "        stones_negated = [-x for x in stones]\n",
    "        heapify(stones_negated)\n",
    "        while len(stones_negated) > 1:\n",
    "            x = -heappop(stones_negated)\n",
    "            y = -heappop(stones_negated)\n",
    "            left = (x - y)\n",
    "            print(x, y, left)\n",
    "            heappush(stones_negated, -left)\n",
    "        \n",
    "        return -stones_negated[0]\n",
    "        "
   ]
  },
  {
   "cell_type": "markdown",
   "metadata": {},
   "source": [
    "**1962. Remove Stones to Minimize the Total**"
   ]
  },
  {
   "cell_type": "code",
   "execution_count": 9,
   "metadata": {},
   "outputs": [],
   "source": [
    "from heapq import *\n",
    "\n",
    "class Solution:\n",
    "    def minStoneSum(self, piles: List[int], k: int) -> int:\n",
    "        \n",
    "        piles_negated = [-p for p in piles]\n",
    "        heapify(piles_negated)\n",
    "        stones_cnt = sum(piles)\n",
    "        for _ in range(k):\n",
    "            curr = heappop(piles_negated)\n",
    "            removed = int(-curr/2)\n",
    "            stones_cnt -= removed\n",
    "            heappush(piles_negated, curr + removed)\n",
    "        \n",
    "        return stones_cnt"
   ]
  },
  {
   "cell_type": "markdown",
   "metadata": {},
   "source": [
    "**1167. Minimum Cost to Connect Sticks**"
   ]
  },
  {
   "cell_type": "code",
   "execution_count": null,
   "metadata": {},
   "outputs": [],
   "source": [
    "from heapq import *\n",
    "\n",
    "class Solution:\n",
    "    def connectSticks(self, sticks: List[int]) -> int:\n",
    "        \n",
    "        heapify(sticks)\n",
    "        cost = 0\n",
    "        while len(sticks) > 1:\n",
    "            first = heappop(sticks)\n",
    "            second = heappop(sticks)\n",
    "            connected = first + second\n",
    "            cost += connected\n",
    "            heappush(sticks, connected)\n",
    "        \n",
    "        return cost"
   ]
  },
  {
   "cell_type": "markdown",
   "metadata": {},
   "source": [
    "**347. Top K Frequent Elements**"
   ]
  },
  {
   "cell_type": "code",
   "execution_count": null,
   "metadata": {},
   "outputs": [],
   "source": [
    "from collections import Counter\n",
    "from heapq import *\n",
    "\n",
    "class Solution:\n",
    "    def topKFrequent(self, nums: List[int], k: int) -> List[int]:\n",
    "        counts = Counter(nums)\n",
    "        heap = []\n",
    "\n",
    "        for key, val in counts.items():\n",
    "            heappush(heap, (val, key))\n",
    "            if len(heap) > k:\n",
    "                heappop(heap)\n",
    "        \n",
    "        return [pair[1] for pair in heap]\n"
   ]
  },
  {
   "cell_type": "markdown",
   "metadata": {},
   "source": [
    "**215. Kth Largest Element in an Array**"
   ]
  },
  {
   "cell_type": "code",
   "execution_count": null,
   "metadata": {},
   "outputs": [],
   "source": [
    "from heapq import *\n",
    "\n",
    "class Solution:\n",
    "    def findKthLargest(self, nums: List[int], k: int) -> int:\n",
    "        n  = len(nums)\n",
    "        heapify(nums)\n",
    "        for i in range(n - k):\n",
    "            heappop(nums)\n",
    "        \n",
    "        return nums[0]"
   ]
  },
  {
   "cell_type": "markdown",
   "metadata": {},
   "source": [
    "**973. K Closest Points to Origin**"
   ]
  },
  {
   "cell_type": "code",
   "execution_count": null,
   "metadata": {},
   "outputs": [],
   "source": [
    "from heapq import *\n",
    "class Solution:\n",
    "    def kClosest(self, points: List[List[int]], k: int) -> List[List[int]]:\n",
    "        \n",
    "        heap = []\n",
    "        for point in points:\n",
    "            x, y = point[0], point[1]\n",
    "            distance = (x-0)**2 + (y-0)**2\n",
    "            heappush(heap, (-distance, [x, y]))\n",
    "            if len(heap) > k:\n",
    "                heappop(heap)\n",
    "        \n",
    "        ans = [pair for distance, pair in heap]\n",
    "        return ans"
   ]
  }
 ],
 "metadata": {
  "kernelspec": {
   "display_name": "Python 3",
   "language": "python",
   "name": "python3"
  },
  "language_info": {
   "codemirror_mode": {
    "name": "ipython",
    "version": 3
   },
   "file_extension": ".py",
   "mimetype": "text/x-python",
   "name": "python",
   "nbconvert_exporter": "python",
   "pygments_lexer": "ipython3",
   "version": "3.11.4"
  }
 },
 "nbformat": 4,
 "nbformat_minor": 2
}
