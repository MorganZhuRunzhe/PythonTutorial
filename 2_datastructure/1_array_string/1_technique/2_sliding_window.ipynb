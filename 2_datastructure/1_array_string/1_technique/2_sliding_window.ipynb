{
 "cells": [
  {
   "cell_type": "markdown",
   "metadata": {},
   "source": [
    "# [Sliding Window](https://leetcode.com/explore/interview/card/leetcodes-interview-crash-course-data-structures-and-algorithms/703/arraystrings/4502/)\n",
    "\n",
    "Sliding window is another common approach to solving problems related to array and string problems.\n",
    "\n",
    "**When should we use sliding window?**\n",
    "> Whenever a problem description talks about **subarrays**(a continguous section of the array),  \n",
    "> We should figure out if sliding window is a good option.\n",
    "\n",
    "- First, the problem will either explicitly or implicitly define criteria that **make a subarray \"valid\"**. There are **2 components** regarding what makes a subarray valid:\n",
    "  - **A constraint metric.** This is some attribute of a subarray. It could be the sum, the number of unique elements, the frequency of a specific element, or any other attribute.\n",
    "  - **A numeric restriction on the constraint metric.** This is what the constraint metric should be for a subarray to be considered valid.\n",
    "\n",
    "- Second, the problem will ask you to **find valid subarrays in some way**.\n",
    "\n",
    "  - The most common task includes **finding the best valid subarray**. The problem will define what makes a subarray better than another. For example, a problem might ask you to find the longest valid subarray.\n",
    "    - [X] 643. Maximum Average Subarray I \n",
    "    - [X] 1004. Max Consecutive Ones III\n",
    "\n",
    "  - Another common task is **finding the number of valid subarrays**.\n",
    "  \n",
    "    - [X] 713. Subarray Product Less Than K\n",
    "\n",
    "A sliding window is actually implemented using two pointers!"
   ]
  },
  {
   "cell_type": "markdown",
   "metadata": {},
   "source": [
    "**713. Subarray Product Less Than K**"
   ]
  },
  {
   "cell_type": "code",
   "execution_count": null,
   "metadata": {},
   "outputs": [],
   "source": [
    "class Solution:\n",
    "    def numSubarrayProductLessThanK(self, nums: List[int], k: int) -> int:\n",
    "\n",
    "        if k <= 1:\n",
    "            return 0\n",
    "        \n",
    "        left, right, curr, res = 0, 0, 1, 0\n",
    "\n",
    "        while right < len(nums):\n",
    "\n",
    "            curr *= nums[right]\n",
    "\n",
    "            while curr >= k and left < right:\n",
    "                curr //= nums[left]\n",
    "                left += 1\n",
    "            \n",
    "            if curr < k: \n",
    "                res = res + right - left + 1 \n",
    "            \n",
    "            right += 1\n",
    "        \n",
    "        return res"
   ]
  },
  {
   "cell_type": "markdown",
   "metadata": {},
   "source": [
    "**643. Maximum Average Subarray I**"
   ]
  },
  {
   "cell_type": "code",
   "execution_count": null,
   "metadata": {},
   "outputs": [],
   "source": [
    "class Solution:\n",
    "    def findMaxAverage(self, nums: List[int], k: int) -> float:\n",
    "        n, sum = len(nums), 0\n",
    "        for i in range(k):\n",
    "            sum += nums[i]\n",
    "        \n",
    "        curr = sum\n",
    "        for i in range(k, n):\n",
    "            curr += nums[i]\n",
    "            curr -= nums[i-k]\n",
    "            sum = max(sum, curr)\n",
    "        \n",
    "        return sum/k"
   ]
  },
  {
   "cell_type": "markdown",
   "metadata": {},
   "source": [
    "**1004. Max Consecutive Ones III**"
   ]
  },
  {
   "cell_type": "code",
   "execution_count": 2,
   "metadata": {},
   "outputs": [],
   "source": [
    "class Solution:\n",
    "    def longestOnes(self, nums: List[int], k: int) -> int:\n",
    "        l, r, res = 0, 0, 0\n",
    "\n",
    "        while r < len(nums):\n",
    "\n",
    "            if nums[r] == 0:\n",
    "                k -= 1\n",
    "                while k < 0:\n",
    "                    if nums[l] == 0:\n",
    "                        k += 1\n",
    "                    l += 1\n",
    "\n",
    "            res = max(res, r-l+1)\n",
    "            r += 1\n",
    "                \n",
    "        return res"
   ]
  }
 ],
 "metadata": {
  "kernelspec": {
   "display_name": "Python 3",
   "language": "python",
   "name": "python3"
  },
  "language_info": {
   "codemirror_mode": {
    "name": "ipython",
    "version": 3
   },
   "file_extension": ".py",
   "mimetype": "text/x-python",
   "name": "python",
   "nbconvert_exporter": "python",
   "pygments_lexer": "ipython3",
   "version": "3.11.4"
  }
 },
 "nbformat": 4,
 "nbformat_minor": 2
}
