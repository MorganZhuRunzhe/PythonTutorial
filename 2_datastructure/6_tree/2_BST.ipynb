{
 "cells": [
  {
   "cell_type": "markdown",
   "metadata": {},
   "source": [
    "# Binary Search Tree\n",
    "\n",
    "[Geeks for Geeks - BST](https://www.geeksforgeeks.org/binary-search-tree-data-structure/?ref=lbp)\n",
    "\n",
    "- [ ] Binary Search Tree's Operation\n",
    "  - [X] Insertion\n",
    "  - [ ] Deletion\n",
    "  - [ ] Search\n",
    "  - [ ] Validate\n",
    "  - [ ] Convert\n",
    "    - [X] Recover\n",
    "    - [ ] Balance"
   ]
  },
  {
   "cell_type": "markdown",
   "metadata": {},
   "source": [
    "## Insert into a BST\n",
    "\n",
    "- [X] [701. Insert into a Binary Search Tree](https://leetcode.com/problems/insert-into-a-binary-search-tree/description/)"
   ]
  },
  {
   "cell_type": "code",
   "execution_count": null,
   "metadata": {},
   "outputs": [],
   "source": [
    "# Definition for a binary tree node.\n",
    "# class TreeNode:\n",
    "#     def __init__(self, val=0, left=None, right=None):\n",
    "#         self.val = val\n",
    "#         self.left = left\n",
    "#         self.right = right\n",
    "class Solution:\n",
    "    def insertIntoBST(self, root: Optional[TreeNode], val: int) -> Optional[TreeNode]:\n",
    "\n",
    "        if not root:\n",
    "            return TreeNode(val)\n",
    "\n",
    "        if val < root.val:\n",
    "            root.left = self.insertIntoBST(root.left, val)\n",
    "        elif val > root.val:\n",
    "            root.right = self.insertIntoBST(root.right, val)\n",
    "\n",
    "        return root"
   ]
  },
  {
   "cell_type": "markdown",
   "metadata": {},
   "source": [
    "## Recover a BST\n",
    "\n",
    "- [X] 99. [Recover Binary Search Tree](https://leetcode.com/problems/recover-binary-search-tree/description/)\n",
    "\n",
    "> **Inorder traversal of a BST is an array sorted in the ascending order.**\n",
    "\n",
    "Here is the algorithm:\n",
    "\n",
    "1. Construct **inorder traversal** of the tree.  \n",
    "    It should be an almost sorted list where only two elements are swapped.\n",
    "\n",
    "2. **Identify** two swapped elements x and y in an almost sorted array in linear time. \n",
    "   - Two elements are adjacent -> one pair `(lst[i], lst[i+1])` is unsorted -> `y` is updated once \n",
    "   - Two elements are **NOT** adjacent -> two pairs are unsorted -> `y` is updated twice  \n",
    "<br></br>\n",
    "3. **Traverse** the tree again. **Change** value x to y and value y to x."
   ]
  },
  {
   "cell_type": "code",
   "execution_count": null,
   "metadata": {},
   "outputs": [],
   "source": [
    "# Definition for a binary tree node.\n",
    "# class TreeNode:\n",
    "#     def __init__(self, val=0, left=None, right=None):\n",
    "#         self.val = val\n",
    "#         self.left = left\n",
    "#         self.right = right\n",
    "class Solution:\n",
    "    def recoverTree(self, root: Optional[TreeNode]) -> None:\n",
    "        \"\"\"\n",
    "        Do not return anything, modify root in-place instead.\n",
    "        \"\"\"\n",
    "\n",
    "        def traverse(node):\n",
    "            \n",
    "            if not node:\n",
    "                return []\n",
    "            \n",
    "            return traverse(node.left) + [node.val] + traverse(node.right)\n",
    "        \n",
    "        def identify(almost_sorted):\n",
    "\n",
    "            occurance = 0\n",
    "            x, y = None, None\n",
    "\n",
    "            for i in range(len(almost_sorted)-1):\n",
    "                if almost_sorted[i] > almost_sorted[i+1]:\n",
    "                    if occurance == 0:\n",
    "                        # first swap occurence\n",
    "                        x = almost_sorted[i]\n",
    "                        y = almost_sorted[i+1]\n",
    "                        occurance += 1\n",
    "                    elif occurance == 1:\n",
    "                        # second potential swap occurence\n",
    "                        y = almost_sorted[i+1]\n",
    "                        break\n",
    "            \n",
    "            return x, y\n",
    "        \n",
    "        def change(node, x, y):\n",
    "            \n",
    "            if not node:\n",
    "                return\n",
    "            \n",
    "            change(node.left, x, y)\n",
    "            if node.val == x:\n",
    "                node.val = y\n",
    "            elif node.val == y:\n",
    "                node.val = x\n",
    "            change(node.right, x, y)\n",
    "        \n",
    "        \n",
    "        x, y = identify(traverse(root))\n",
    "        change(root, x, y)"
   ]
  }
 ],
 "metadata": {
  "kernelspec": {
   "display_name": "Python 3",
   "language": "python",
   "name": "python3"
  },
  "language_info": {
   "codemirror_mode": {
    "name": "ipython",
    "version": 3
   },
   "file_extension": ".py",
   "mimetype": "text/x-python",
   "name": "python",
   "nbconvert_exporter": "python",
   "pygments_lexer": "ipython3",
   "version": "3.11.4"
  }
 },
 "nbformat": 4,
 "nbformat_minor": 2
}
